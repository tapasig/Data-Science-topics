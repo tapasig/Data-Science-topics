{
 "cells": [
  {
   "cell_type": "markdown",
   "metadata": {},
   "source": [
    "## Title : Mobile App to prevent and treat gambling addictions\n",
    "\n",
    "## Introduction: \n",
    "Many people start playing the lottery for fun, then they became addicted.\n",
    "A medical institute that aims to prevent and treat gambling addictions wants to build a dedicated mobile app to help lottery addicts better estimate their chances of winning.\n",
    "\n",
    "For the first version of the app, we will focus on historical data coming from the national 6/49 lottery game in Canada and build functions that enable users to answer questions like:\n",
    "\n",
    "- What is the probability of winning the big prize with a single ticket?\n",
    "- What is the probability of winning the big prize if we play 40 different tickets (or any other number)?\n",
    "- What is the probability of having at least five (or four, or three, or two) winning numbers on a single ticket?"
   ]
  },
  {
   "cell_type": "code",
   "execution_count": 3,
   "metadata": {},
   "outputs": [],
   "source": [
    "def factorial(n):\n",
    "    if (n == 0):\n",
    "        return 1\n",
    "    else:\n",
    "        return n * factorial(n-1)"
   ]
  },
  {
   "cell_type": "code",
   "execution_count": 4,
   "metadata": {},
   "outputs": [],
   "source": [
    "def combinations(n,k):\n",
    "    return factorial(n)/(factorial(n-k) * factorial(k))"
   ]
  },
  {
   "cell_type": "markdown",
   "metadata": {},
   "source": [
    "### One-ticket Probability\n",
    "For the first version of the app, we want players to be able to calculate the probability of winning the big prize with the various numbers they play on a single ticket (for each ticket a player chooses six numbers out of 49). "
   ]
  },
  {
   "cell_type": "code",
   "execution_count": 5,
   "metadata": {},
   "outputs": [],
   "source": [
    "def one_ticket_probability(numbers):\n",
    "    k = len(numbers)\n",
    "    outcomes = combinations(49,k)\n",
    "    probability = 1/outcomes\n",
    "    print(\"Probability to win a 6/49 lottery is {:.7f}%. In other words, your chances to win is 1 in {:,}\".format(probability*100,int(outcomes))) \n",
    " \n",
    "                                                                                                                  #return probability"
   ]
  },
  {
   "cell_type": "code",
   "execution_count": 6,
   "metadata": {},
   "outputs": [
    {
     "name": "stdout",
     "output_type": "stream",
     "text": [
      "Probability to win a 6/49 lottery is 0.0000072%. In other words, your chances to win is 1 in 13,983,816\n"
     ]
    }
   ],
   "source": [
    "one_ticket_probability([3,45,10,9,23,1])"
   ]
  },
  {
   "cell_type": "code",
   "execution_count": 7,
   "metadata": {},
   "outputs": [
    {
     "name": "stdout",
     "output_type": "stream",
     "text": [
      "Probability to win a 6/49 lottery is 0.0000072%. In other words, your chances to win is 1 in 13,983,816\n"
     ]
    }
   ],
   "source": [
    "test_input = [2, 43, 22, 23, 11, 5]\n",
    "one_ticket_probability(test_input)"
   ]
  },
  {
   "cell_type": "markdown",
   "metadata": {},
   "source": [
    "### Historical Data Check for Canada Lottery\n",
    " Explore the historical data coming from the Canada 6/49 lottery. The data set can be downloaded from [Kaggle](https://www.kaggle.com/datascienceai/lottery-dataset) and it has the following structure:\n",
    "\n",
    "The data set contains historical data for 3,665 drawings (each row shows data for a single drawing), dating from 1982 to 2018. "
   ]
  },
  {
   "cell_type": "code",
   "execution_count": 11,
   "metadata": {},
   "outputs": [],
   "source": [
    "import pandas as pd\n",
    "\n",
    "lottery = pd.read_csv(\"649.csv\")"
   ]
  },
  {
   "cell_type": "code",
   "execution_count": 12,
   "metadata": {},
   "outputs": [
    {
     "data": {
      "text/plain": [
       "(3665, 11)"
      ]
     },
     "execution_count": 12,
     "metadata": {},
     "output_type": "execute_result"
    }
   ],
   "source": [
    "lottery.shape"
   ]
  },
  {
   "cell_type": "code",
   "execution_count": 13,
   "metadata": {},
   "outputs": [
    {
     "data": {
      "text/html": [
       "<div>\n",
       "<style scoped>\n",
       "    .dataframe tbody tr th:only-of-type {\n",
       "        vertical-align: middle;\n",
       "    }\n",
       "\n",
       "    .dataframe tbody tr th {\n",
       "        vertical-align: top;\n",
       "    }\n",
       "\n",
       "    .dataframe thead th {\n",
       "        text-align: right;\n",
       "    }\n",
       "</style>\n",
       "<table border=\"1\" class=\"dataframe\">\n",
       "  <thead>\n",
       "    <tr style=\"text-align: right;\">\n",
       "      <th></th>\n",
       "      <th>PRODUCT</th>\n",
       "      <th>DRAW NUMBER</th>\n",
       "      <th>SEQUENCE NUMBER</th>\n",
       "      <th>DRAW DATE</th>\n",
       "      <th>NUMBER DRAWN 1</th>\n",
       "      <th>NUMBER DRAWN 2</th>\n",
       "      <th>NUMBER DRAWN 3</th>\n",
       "      <th>NUMBER DRAWN 4</th>\n",
       "      <th>NUMBER DRAWN 5</th>\n",
       "      <th>NUMBER DRAWN 6</th>\n",
       "      <th>BONUS NUMBER</th>\n",
       "    </tr>\n",
       "  </thead>\n",
       "  <tbody>\n",
       "    <tr>\n",
       "      <th>0</th>\n",
       "      <td>649</td>\n",
       "      <td>1</td>\n",
       "      <td>0</td>\n",
       "      <td>6/12/1982</td>\n",
       "      <td>3</td>\n",
       "      <td>11</td>\n",
       "      <td>12</td>\n",
       "      <td>14</td>\n",
       "      <td>41</td>\n",
       "      <td>43</td>\n",
       "      <td>13</td>\n",
       "    </tr>\n",
       "    <tr>\n",
       "      <th>1</th>\n",
       "      <td>649</td>\n",
       "      <td>2</td>\n",
       "      <td>0</td>\n",
       "      <td>6/19/1982</td>\n",
       "      <td>8</td>\n",
       "      <td>33</td>\n",
       "      <td>36</td>\n",
       "      <td>37</td>\n",
       "      <td>39</td>\n",
       "      <td>41</td>\n",
       "      <td>9</td>\n",
       "    </tr>\n",
       "    <tr>\n",
       "      <th>2</th>\n",
       "      <td>649</td>\n",
       "      <td>3</td>\n",
       "      <td>0</td>\n",
       "      <td>6/26/1982</td>\n",
       "      <td>1</td>\n",
       "      <td>6</td>\n",
       "      <td>23</td>\n",
       "      <td>24</td>\n",
       "      <td>27</td>\n",
       "      <td>39</td>\n",
       "      <td>34</td>\n",
       "    </tr>\n",
       "    <tr>\n",
       "      <th>3</th>\n",
       "      <td>649</td>\n",
       "      <td>4</td>\n",
       "      <td>0</td>\n",
       "      <td>7/3/1982</td>\n",
       "      <td>3</td>\n",
       "      <td>9</td>\n",
       "      <td>10</td>\n",
       "      <td>13</td>\n",
       "      <td>20</td>\n",
       "      <td>43</td>\n",
       "      <td>34</td>\n",
       "    </tr>\n",
       "    <tr>\n",
       "      <th>4</th>\n",
       "      <td>649</td>\n",
       "      <td>5</td>\n",
       "      <td>0</td>\n",
       "      <td>7/10/1982</td>\n",
       "      <td>5</td>\n",
       "      <td>14</td>\n",
       "      <td>21</td>\n",
       "      <td>31</td>\n",
       "      <td>34</td>\n",
       "      <td>47</td>\n",
       "      <td>45</td>\n",
       "    </tr>\n",
       "  </tbody>\n",
       "</table>\n",
       "</div>"
      ],
      "text/plain": [
       "   PRODUCT  DRAW NUMBER  SEQUENCE NUMBER  DRAW DATE  NUMBER DRAWN 1  \\\n",
       "0      649            1                0  6/12/1982               3   \n",
       "1      649            2                0  6/19/1982               8   \n",
       "2      649            3                0  6/26/1982               1   \n",
       "3      649            4                0   7/3/1982               3   \n",
       "4      649            5                0  7/10/1982               5   \n",
       "\n",
       "   NUMBER DRAWN 2  NUMBER DRAWN 3  NUMBER DRAWN 4  NUMBER DRAWN 5  \\\n",
       "0              11              12              14              41   \n",
       "1              33              36              37              39   \n",
       "2               6              23              24              27   \n",
       "3               9              10              13              20   \n",
       "4              14              21              31              34   \n",
       "\n",
       "   NUMBER DRAWN 6  BONUS NUMBER  \n",
       "0              43            13  \n",
       "1              41             9  \n",
       "2              39            34  \n",
       "3              43            34  \n",
       "4              47            45  "
      ]
     },
     "execution_count": 13,
     "metadata": {},
     "output_type": "execute_result"
    }
   ],
   "source": [
    "lottery.head()"
   ]
  },
  {
   "cell_type": "markdown",
   "metadata": {},
   "source": [
    "### Function for Historical Data Check\n",
    " Extract all the winning six numbers from the historical data set. "
   ]
  },
  {
   "cell_type": "code",
   "execution_count": 14,
   "metadata": {},
   "outputs": [],
   "source": [
    "def extract_numbers(row):\n",
    "    no_drawn = set(row[4:10].values)\n",
    "    return no_drawn"
   ]
  },
  {
   "cell_type": "code",
   "execution_count": 17,
   "metadata": {},
   "outputs": [],
   "source": [
    "winning_nos = []\n",
    "for index, row in lottery.iterrows():\n",
    "    #print(row.values)\n",
    "    winning_nos.append(extract_numbers(row))"
   ]
  },
  {
   "cell_type": "code",
   "execution_count": 18,
   "metadata": {},
   "outputs": [
    {
     "data": {
      "text/plain": [
       "[{3, 11, 12, 14, 41, 43},\n",
       " {8, 33, 36, 37, 39, 41},\n",
       " {1, 6, 23, 24, 27, 39},\n",
       " {3, 9, 10, 13, 20, 43},\n",
       " {5, 14, 21, 31, 34, 47}]"
      ]
     },
     "execution_count": 18,
     "metadata": {},
     "output_type": "execute_result"
    }
   ],
   "source": [
    "winning_nos[:5]"
   ]
  },
  {
   "cell_type": "code",
   "execution_count": 19,
   "metadata": {},
   "outputs": [],
   "source": [
    "winning_nos = lottery.apply(extract_numbers, axis=1)"
   ]
  },
  {
   "cell_type": "code",
   "execution_count": 20,
   "metadata": {},
   "outputs": [],
   "source": [
    "def check_historical_occurence(user_nos, winning_nos):\n",
    "    user_nos = set(user_nos)\n",
    "    match = user_nos == winning_nos\n",
    "    #Print information about the number of times the combination inputted \n",
    "    #by the user occurred in the past\n",
    "    matching_no_count = match.sum()\n",
    "    if matching_no_count == 0:\n",
    "        print(\"The combination has never matched. Your chances to win is 1 in next draw is{:,}\").format(combinations(6))\n",
    "    else:\n",
    "        #probability of winning the big prize with that combination\n",
    "        print(\"You have {} matching numbers among the winning number slot. Your chances to win is 1 in next draw is {:,}.... Better Luck Next time\"\n",
    "          .format(matching_no_count, int(combinations(49,6))))\n",
    "    "
   ]
  },
  {
   "cell_type": "code",
   "execution_count": 22,
   "metadata": {},
   "outputs": [
    {
     "name": "stdout",
     "output_type": "stream",
     "text": [
      "You have 1 matching numbers among the winning number slot. Your chances to win is 1 in next draw is 13,983,816.... Better Luck Next time\n"
     ]
    }
   ],
   "source": [
    "test_input = [33, 36, 37, 39, 8, 41]\n",
    "check_historical_occurence(test_input, winning_nos)"
   ]
  },
  {
   "cell_type": "markdown",
   "metadata": {},
   "source": [
    "### Multi-ticket Probability"
   ]
  },
  {
   "cell_type": "markdown",
   "metadata": {},
   "source": [
    "Lottery addicts usually play more than one ticket on a single drawing, thinking that this might increase their chances of winning significantly. Our purpose is to help them better estimate their chances of winning — on this screen, we're going to write a function that will allow the users to calculate the chances of winning for any number of different tickets."
   ]
  },
  {
   "cell_type": "code",
   "execution_count": 23,
   "metadata": {},
   "outputs": [],
   "source": [
    "def multi_ticket_probability(ticket_number):\n",
    "    p_outcomes = combinations(49,6)\n",
    "    if ticket_number == 1:\n",
    "        probability = (1/p_outcomes)*100\n",
    "        print(\"If you buy {} ticket, your chances of win is 1 in {:,} chances. So percentage of win is {:.7f}%\".format(ticket_number, int(p_outcomes),probability))\n",
    "    else:\n",
    "        probability = ticket_number/p_outcomes\n",
    "        print(\"If you buy {:,} tickets, your chances of win is 1 in {:,} chances. So percentage of win is {:.6f}%\".format(ticket_number,round(1/probability), probability*100))\n",
    "    "
   ]
  },
  {
   "cell_type": "code",
   "execution_count": 24,
   "metadata": {},
   "outputs": [
    {
     "name": "stdout",
     "output_type": "stream",
     "text": [
      "If you buy 1 ticket, your chances of win is 1 in 13,983,816 chances. So percentage of win is 0.0000072%\n",
      "If you buy 10 tickets, your chances of win is 1 in 1,398,382 chances. So percentage of win is 0.000072%\n",
      "If you buy 100 tickets, your chances of win is 1 in 139,838 chances. So percentage of win is 0.000715%\n",
      "If you buy 10,000 tickets, your chances of win is 1 in 1,398 chances. So percentage of win is 0.071511%\n",
      "If you buy 1,000,000 tickets, your chances of win is 1 in 14 chances. So percentage of win is 7.151124%\n",
      "If you buy 6,991,908 tickets, your chances of win is 1 in 2 chances. So percentage of win is 50.000000%\n",
      "If you buy 13,983,816 tickets, your chances of win is 1 in 1 chances. So percentage of win is 100.000000%\n"
     ]
    }
   ],
   "source": [
    "test_input = [1, 10, 100, 10000, 1000000, 6991908, 13983816]\n",
    "for ticket_no in test_input:\n",
    "    multi_ticket_probability(ticket_no)"
   ]
  },
  {
   "cell_type": "markdown",
   "metadata": {},
   "source": [
    "### Less Winning Numbers — Function\n",
    "So far, we wrote three main functions:\n",
    "\n",
    "- `one_ticket_probability()` — calculates the probability of winning the big prize with a single ticket\n",
    "- `check_historical_occurrence()` — checks whether a certain combination has occurred in the Canada lottery data set\n",
    "- `multi_ticket_probability()` — calculates the probability for any number of tickets between 1 and 13,983,816\n",
    "\n",
    "In most 6/49 lotteries there are smaller prizes if a player's ticket match two, three, four, or five of the six numbers drawn. As a consequence, the users might be interested in knowing the probability of having two, three, four, or five winning numbers.\n",
    "\n",
    "\n",
    "The function named `probability_less_6()` takes in an integer between 2 and 5 and prints information about the chances of winning depending on the value of that integer."
   ]
  },
  {
   "cell_type": "code",
   "execution_count": 25,
   "metadata": {},
   "outputs": [],
   "source": [
    "def probability_less_6(n_choice):\n",
    "    n_combinations = combinations(6, n_choice)\n",
    "    #print(n_combinations)\n",
    "    #for each n_choice\n",
    "    #successful_outcomes = n_combinations * (49 - n_combinations)\n",
    "    successful_outcomes = n_combinations * combinations(43, 6 - n_choice)\n",
    " \n",
    "    #print(successful_outcomes)\n",
    "    #for 6/49 lottery draw\n",
    "    possible_outcomes = combinations(49,6)\n",
    "    \n",
    "    #probability\n",
    "    probability = (successful_outcomes/possible_outcomes)*100\n",
    "    \n",
    "    print(\" For having {} number match with this ticket , the percentage of win is {:.6f}%\".format(n_choice, probability))"
   ]
  },
  {
   "cell_type": "code",
   "execution_count": 27,
   "metadata": {},
   "outputs": [
    {
     "name": "stdout",
     "output_type": "stream",
     "text": [
      " For having 4 number match with this ticket , the percentage of win is 0.096862%\n"
     ]
    }
   ],
   "source": [
    "probability_less_6(4)"
   ]
  },
  {
   "cell_type": "code",
   "execution_count": 28,
   "metadata": {},
   "outputs": [
    {
     "name": "stdout",
     "output_type": "stream",
     "text": [
      " For having 2 number match with this ticket , the percentage of win is 13.237803%\n",
      " For having 3 number match with this ticket , the percentage of win is 1.765040%\n",
      " For having 4 number match with this ticket , the percentage of win is 0.096862%\n",
      " For having 5 number match with this ticket , the percentage of win is 0.001845%\n"
     ]
    }
   ],
   "source": [
    "for ticket in [2,3,4,5]:\n",
    "    probability_less_6(ticket)"
   ]
  },
  {
   "cell_type": "markdown",
   "metadata": {},
   "source": [
    "### Next Steps\n",
    "That was all for the guided part of the project! We managed to write four main functions for our app:\n",
    "\n",
    "- `one_ticket_probability()` — calculates the probability of winning the big prize with a single ticket\n",
    "- `check_historical_occurrence()` — checks whether a certain combination has occurred in the Canada lottery data set\n",
    "- `multi_ticket_probability()` — calculates the probability for any number of of tickets between 1 and 13,983,816\n",
    "- `probability_less_6()` — calculates the probability of having two, three, four or five winning numbers\n",
    "\n",
    "Possible features for a second version of the app include:\n",
    "- Making the outputs even easier to understand by adding fun analogies (for example, we can find probabilities for strange events and compare with the chances of winning in lottery; for instance, we can output something along the lines \"You are 100 times more likely to be the victim of a shark attack than winning the lottery\").\n",
    "- Combining the `one_ticket_probability()` and `check_historical_occurrence()` to output information on probability and historical occurrence at the same time.\n",
    "- Creating a function similar to probability_less_6() which calculates the probability of having at least two, three, four or five winning numbers. Hint: the number of successful outcomes for having at least four winning numbers is the sum of these three numbers:\n",
    "    - The number of successful outcomes for having four winning numbers exactly\n",
    "    - The number of successful outcomes for having five winning numbers exactly\n",
    "    - The number of successful outcomes for having six winning numbers exactly\n",
    "    "
   ]
  },
  {
   "cell_type": "code",
   "execution_count": null,
   "metadata": {},
   "outputs": [],
   "source": []
  }
 ],
 "metadata": {
  "kernelspec": {
   "display_name": "Python 3",
   "language": "python",
   "name": "python3"
  },
  "language_info": {
   "codemirror_mode": {
    "name": "ipython",
    "version": 3
   },
   "file_extension": ".py",
   "mimetype": "text/x-python",
   "name": "python",
   "nbconvert_exporter": "python",
   "pygments_lexer": "ipython3",
   "version": "3.7.3"
  }
 },
 "nbformat": 4,
 "nbformat_minor": 2
}
