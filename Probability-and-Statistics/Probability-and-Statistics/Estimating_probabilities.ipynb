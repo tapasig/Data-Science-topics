{
 "cells": [
  {
   "cell_type": "markdown",
   "metadata": {},
   "source": [
    "#### 1. Emperical/Experimental Probability :\n",
    "A probability value estimated by performing an experiment is called empirical (or experimental) probability. To find the empirical probability of any event E (like a coin landing heads up), we learned to use the formula:\n",
    "\\begin{equation}\n",
    "P(E) = \\frac{\\text{number of times event E happened}}{\\text{number of times we repeated the experiment}}\n",
    "\\end{equation}\n",
    "However, properly calculating empirical probabilities requires us to perform a random experiment many times, which may not always be feasible in practice. An easier way to estimate probabilities is to start with the assumption that **the outcomes of a random experiment have equal chances of occurring**. This allows us to use the following formula to calculate the probability of an event E:\n",
    "\\begin{equation}\n",
    "P(E) = \\frac{1}{\\text{total number of possible outcomes}}\n",
    "\\end{equation}\n",
    "\n",
    "#### 2. Theoretical Probability:\n",
    "When we calculate the probability of an event under the assumption that the outcomes have equal chances of occurring, we say that we're calculating the theoretical probability of an event.\n",
    "Let's also consider the rolling of a die, where there are six possible outcomes: 1, 2, 3, 4, 5 or 6:\n",
    "\\begin{equation}\n",
    "P(2) = \\frac{1}{6} = 0.1\\bar{6}\n",
    "\\end{equation}\n",
    "\\begin{equation}\n",
    "P(4) = \\frac{1}{6} = 0.1\\bar{6}\n",
    "\\end{equation}"
   ]
  },
  {
   "cell_type": "code",
   "execution_count": 1,
   "metadata": {},
   "outputs": [],
   "source": [
    "import pandas as pd"
   ]
  },
  {
   "cell_type": "code",
   "execution_count": 4,
   "metadata": {
    "scrolled": true
   },
   "outputs": [],
   "source": [
    "flags = pd.read_csv(\"flags.csv\")"
   ]
  },
  {
   "cell_type": "code",
   "execution_count": 5,
   "metadata": {},
   "outputs": [
    {
     "data": {
      "text/plain": [
       "(194, 30)"
      ]
     },
     "execution_count": 5,
     "metadata": {},
     "output_type": "execute_result"
    }
   ],
   "source": [
    "flags.shape"
   ]
  },
  {
   "cell_type": "code",
   "execution_count": 6,
   "metadata": {},
   "outputs": [
    {
     "data": {
      "text/plain": [
       "array(['name', 'landmass', 'zone', 'area', 'population', 'language',\n",
       "       'religion', 'bars', 'stripes', 'colors', 'red', 'green', 'blue',\n",
       "       'gold', 'white', 'black', 'orange', 'mainhue', 'circles',\n",
       "       'crosses', 'saltires', 'quarters', 'sunstars', 'crescent',\n",
       "       'triangle', 'icon', 'animate', 'text', 'topleft', 'botright'],\n",
       "      dtype=object)"
      ]
     },
     "execution_count": 6,
     "metadata": {},
     "output_type": "execute_result"
    }
   ],
   "source": [
    "flags.columns.values"
   ]
  },
  {
   "cell_type": "code",
   "execution_count": 7,
   "metadata": {},
   "outputs": [
    {
     "data": {
      "text/plain": [
       "'St-Vincent'"
      ]
     },
     "execution_count": 7,
     "metadata": {},
     "output_type": "execute_result"
    }
   ],
   "source": [
    "flag_most_bars = flags.sort_values(\"bars\", ascending=[0])[\"name\"].iloc[0]\n",
    "flag_most_bars"
   ]
  },
  {
   "cell_type": "code",
   "execution_count": 8,
   "metadata": {},
   "outputs": [
    {
     "data": {
      "text/plain": [
       "'China'"
      ]
     },
     "execution_count": 8,
     "metadata": {},
     "output_type": "execute_result"
    }
   ],
   "source": [
    "# The country with the highest population\n",
    "country_highest_pop = flags.sort_values(\"population\", ascending=[0])[\"name\"].iloc[0]\n",
    "country_highest_pop"
   ]
  },
  {
   "cell_type": "markdown",
   "metadata": {},
   "source": [
    "### Calculating Probability"
   ]
  },
  {
   "cell_type": "code",
   "execution_count": 9,
   "metadata": {},
   "outputs": [
    {
     "data": {
      "text/plain": [
       "0.13402061855670103"
      ]
     },
     "execution_count": 9,
     "metadata": {},
     "output_type": "execute_result"
    }
   ],
   "source": [
    "# The probability of a country having a flag with the color orange in it\n",
    "\n",
    "num_countries = flags.shape[0]\n",
    "orange_probability = flags[flags[\"orange\"] == 1].shape[0] / num_countries\n",
    "orange_probability"
   ]
  },
  {
   "cell_type": "code",
   "execution_count": 10,
   "metadata": {},
   "outputs": [
    {
     "data": {
      "text/plain": [
       "0.41237113402061853"
      ]
     },
     "execution_count": 10,
     "metadata": {},
     "output_type": "execute_result"
    }
   ],
   "source": [
    "# The probability of a country having a flag with more than 1 stripe in it\n",
    "\n",
    "stripe_probability = flags[flags[\"stripes\"] > 1].shape[0] / num_countries\n",
    "stripe_probability"
   ]
  },
  {
   "cell_type": "markdown",
   "metadata": {},
   "source": [
    "### Conjunctive Probability"
   ]
  },
  {
   "cell_type": "code",
   "execution_count": 11,
   "metadata": {},
   "outputs": [],
   "source": [
    "# The probability that 10 (100) flips in a row will all turn out heads\n",
    "ten_heads = 0.5 ** 10\n",
    "hundred_heads= 0.5 ** 100"
   ]
  },
  {
   "cell_type": "markdown",
   "metadata": {},
   "source": [
    "### Dependent Probabilities\n",
    "The probability picking (without replacement) "
   ]
  },
  {
   "cell_type": "code",
   "execution_count": 12,
   "metadata": {},
   "outputs": [
    {
     "data": {
      "text/plain": [
       "0.4884855242775493"
      ]
     },
     "execution_count": 12,
     "metadata": {},
     "output_type": "execute_result"
    }
   ],
   "source": [
    "#prob of three countries with red in their flags in a row\n",
    "red_in_flag_count = flags[flags[\"red\"] == 1].shape[0]\n",
    "one_red = (red_in_flag_count / num_countries) \n",
    "two_red = one_red * ((red_in_flag_count - 1) / (num_countries - 1))\n",
    "three_red = two_red * ((red_in_flag_count - 2) / (num_countries - 2))\n",
    "three_red"
   ]
  },
  {
   "cell_type": "markdown",
   "metadata": {},
   "source": [
    "### Disjunctive probability"
   ]
  },
  {
   "cell_type": "code",
   "execution_count": 13,
   "metadata": {},
   "outputs": [
    {
     "data": {
      "text/plain": [
       "0.009944444444444445"
      ]
     },
     "execution_count": 13,
     "metadata": {},
     "output_type": "execute_result"
    }
   ],
   "source": [
    "# A random number generator generates numbers from 1 to 18000.\n",
    "# What are the odds of getting a number evenly divisible by 100, with no remainder?\n",
    "\n",
    "count = 0\n",
    "for i in range(1, 18000):\n",
    "    if (i % 100) == 0:\n",
    "        count += 1\n",
    "count / 18000"
   ]
  },
  {
   "cell_type": "code",
   "execution_count": 14,
   "metadata": {},
   "outputs": [
    {
     "data": {
      "text/plain": [
       "0.014277777777777778"
      ]
     },
     "execution_count": 14,
     "metadata": {},
     "output_type": "execute_result"
    }
   ],
   "source": [
    "# What are the odds of getting a number evenly divisible by 70, with no remainder?\n",
    "\n",
    "count = 0\n",
    "for i in range(1, 18000):\n",
    "    if (i % 70) == 0:\n",
    "        count += 1\n",
    "count / 18000"
   ]
  },
  {
   "cell_type": "markdown",
   "metadata": {},
   "source": [
    "### Disjunctive Dependent Probabilities"
   ]
  },
  {
   "cell_type": "code",
   "execution_count": 15,
   "metadata": {},
   "outputs": [
    {
     "data": {
      "text/plain": [
       "0.8247422680412371"
      ]
     },
     "execution_count": 15,
     "metadata": {},
     "output_type": "execute_result"
    }
   ],
   "source": [
    "# The probability of a flag having red or orange as a color\n",
    "\n",
    "prob_red_in_flag = flags[flags[\"red\"] == 1].shape[0] / flags.shape[0]\n",
    "prob_orange_in_flag = flags[flags[\"orange\"] == 1].shape[0] / flags.shape[0]\n",
    "prob_red_and_orange_in_flag = flags[(flags[\"red\"] == 1) & (flags[\"orange\"] == 1)].shape[0] / flags.shape[0]\n",
    "\n",
    "prob_red_or_orange_in_flag = prob_red_in_flag + prob_orange_in_flag - prob_red_and_orange_in_flag\n",
    "prob_red_or_orange_in_flag"
   ]
  },
  {
   "cell_type": "code",
   "execution_count": null,
   "metadata": {},
   "outputs": [],
   "source": []
  }
 ],
 "metadata": {
  "kernelspec": {
   "display_name": "Python 3",
   "language": "python",
   "name": "python3"
  },
  "language_info": {
   "codemirror_mode": {
    "name": "ipython",
    "version": 3
   },
   "file_extension": ".py",
   "mimetype": "text/x-python",
   "name": "python",
   "nbconvert_exporter": "python",
   "pygments_lexer": "ipython3",
   "version": "3.7.3"
  }
 },
 "nbformat": 4,
 "nbformat_minor": 2
}
