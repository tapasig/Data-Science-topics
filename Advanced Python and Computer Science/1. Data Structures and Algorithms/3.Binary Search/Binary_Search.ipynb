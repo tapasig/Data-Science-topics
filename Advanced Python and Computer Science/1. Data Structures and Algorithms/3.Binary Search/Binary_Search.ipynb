{
 "cells": [
  {
   "cell_type": "code",
   "execution_count": 2,
   "metadata": {},
   "outputs": [],
   "source": [
    "import pandas as pd\n",
    "nba = pd.read_csv(\"nba_2013.csv\")"
   ]
  },
  {
   "cell_type": "code",
   "execution_count": 5,
   "metadata": {},
   "outputs": [
    {
     "data": {
      "text/plain": [
       "(481, 31)"
      ]
     },
     "execution_count": 5,
     "metadata": {},
     "output_type": "execute_result"
    }
   ],
   "source": [
    "nba.shape"
   ]
  },
  {
   "cell_type": "code",
   "execution_count": 8,
   "metadata": {},
   "outputs": [],
   "source": [
    "import math\n",
    "# A function to extract a player's last name\n",
    "\n",
    "def format_name(name):\n",
    "    return name.split(\" \")[1] + \", \" + name.split(\" \")[0]"
   ]
  },
  {
   "cell_type": "markdown",
   "metadata": {},
   "source": [
    "###  Implementing Binary Search: Part 1¶"
   ]
  },
  {
   "cell_type": "code",
   "execution_count": 24,
   "metadata": {},
   "outputs": [],
   "source": [
    "\n",
    "# The length of the data set\n",
    "length = len(nba)\n",
    "\n",
    "# Implement the player_age function. For now, just return what the instructions specify\n",
    "def player_age(name):\n",
    "    # We need to format the given name appropriately for successful comparison\n",
    "    name = format_name(name)\n",
    "    \n",
    "    # First guess halfway through the list\n",
    "    first_guess_index = math.floor(length/2)\n",
    "    first_guess = format_name(nba.loc[first_guess_index][0])\n",
    "    \n",
    "    # Check where we should continue searching\n",
    "    if name > first_guess :\n",
    "        return 'later'\n",
    "    elif name < first_guess:\n",
    "        return 'earlier'\n",
    "    else:\n",
    "        return 'found'\n",
    "    "
   ]
  },
  {
   "cell_type": "code",
   "execution_count": 26,
   "metadata": {},
   "outputs": [
    {
     "data": {
      "text/plain": [
       "'found'"
      ]
     },
     "execution_count": 26,
     "metadata": {},
     "output_type": "execute_result"
    },
    {
     "data": {
      "text/plain": [
       "'later'"
      ]
     },
     "execution_count": 26,
     "metadata": {},
     "output_type": "execute_result"
    },
    {
     "data": {
      "text/plain": [
       "'earlier'"
      ]
     },
     "execution_count": 26,
     "metadata": {},
     "output_type": "execute_result"
    }
   ],
   "source": [
    "johnson_odom_age = player_age(\"Darius Johnson-Odom\")\n",
    "young_age        = player_age(\"Nick Young\")\n",
    "adrien_age       = player_age(\"Jeff Adrien\")\n",
    "johnson_odom_age\n",
    "young_age\n",
    "adrien_age"
   ]
  },
  {
   "cell_type": "markdown",
   "metadata": {},
   "source": [
    "###  Implementing Binary Search: Part 2"
   ]
  },
  {
   "cell_type": "code",
   "execution_count": 20,
   "metadata": {},
   "outputs": [],
   "source": [
    "length = len(nba)  \n",
    "\n",
    "def player_age(name):\n",
    "    idx = math.floor(length/2)\n",
    "    guess = format_name(nba.loc[idx][0])\n",
    "\n",
    "    if format_name(name) < guess:\n",
    "        return \"Earlier\"\n",
    "    elif format_name(name) > guess:\n",
    "        return \"Later\"\n",
    "    else:\n",
    "        return \"Found\""
   ]
  },
  {
   "cell_type": "code",
   "execution_count": 23,
   "metadata": {},
   "outputs": [
    {
     "data": {
      "text/plain": [
       "'Found'"
      ]
     },
     "execution_count": 23,
     "metadata": {},
     "output_type": "execute_result"
    }
   ],
   "source": [
    "johnson_odom_age = player_age(\"Darius Johnson-Odom\")\n",
    "johnson_odom_age"
   ]
  },
  {
   "cell_type": "code",
   "execution_count": 29,
   "metadata": {},
   "outputs": [],
   "source": [
    "# Implement the player_age function. For now, just return what the instructions specify\n",
    "def player_age(name):\n",
    "    # We need to format our name appropriately for successful comparison\n",
    "    name = format_name(name)\n",
    "    # Initial bounds of the search\n",
    "    upper_bound = length - 1\n",
    "    lower_bound = 0\n",
    "    # Index of first split\n",
    "    first_guess_index = math.floor(length/2)\n",
    "    first_guess = format_name(nba.loc[first_guess_index][0])\n",
    "    # If the name comes before our guess (which is at the middle)\n",
    "        # Adjust the upper bound as needed\n",
    "    # Else if the name comes after our guess\n",
    "        # Adjust the lower bound as needed\n",
    "    # Else\n",
    "        # Player found, so return first guess\n",
    "    if name > first_guess :\n",
    "        lower_bound = first_guess_index +1\n",
    "    elif name < first_guess:\n",
    "        upper_bound = first_guess_index -1\n",
    "    elif first_guess == name:\n",
    "        return first_guess\n",
    "    # Set the index of the second split which is in b/w both bounds\n",
    "    # Find and format the second guess\n",
    "    # Return the second guess\n",
    "    \n",
    "    second_guess_index = math.floor((lower_bound + upper_bound)/2)\n",
    "    second_guess = format_name(nba.loc[second_guess_index][0])\n",
    "    return second_guess\n",
    "    "
   ]
  },
  {
   "cell_type": "code",
   "execution_count": 30,
   "metadata": {},
   "outputs": [
    {
     "data": {
      "text/plain": [
       "'De, Nando'"
      ]
     },
     "execution_count": 30,
     "metadata": {},
     "output_type": "execute_result"
    }
   ],
   "source": [
    "gasol_age = player_age(\"Pau Gasol\")\n",
    "pierce_age = player_age(\"Paul Pierce\")\n",
    "gasol_age"
   ]
  },
  {
   "cell_type": "markdown",
   "metadata": {},
   "source": [
    "###  Implementing Binary Search: Part 3"
   ]
  },
  {
   "cell_type": "code",
   "execution_count": 35,
   "metadata": {},
   "outputs": [],
   "source": [
    "# Implement the player_age function. For now, just return what the instructions specify\n",
    "def player_age(name):\n",
    "    # We need to format our name appropriately for successful comparison\n",
    "    name = format_name(name)\n",
    "    # Bounds of the search\n",
    "    upper_bound = length - 1\n",
    "    lower_bound = 0\n",
    "    # Index of first split. It's important to understand how we compute this\n",
    "    index = math.floor((upper_bound + lower_bound) / 2)\n",
    "    # First, guess halfway through the list\n",
    "    guess = format_name(nba.loc[index][0])\n",
    "    # Keep guessing until it finds the name. Use a while loop here.\n",
    "        # Check where our guess is in relation to the name we're requesting,\n",
    "        #     and adjust our bounds as necessary (multiple lines here).\n",
    "        #     If we have found the name, we wouldn't be in this loop, so\n",
    "        #     we shouldn't worry about that case\n",
    "        # Find the new index of our guess\n",
    "        # Find and format the new guess value\n",
    "    # When our loop terminates, we have found the right NBA player's name\n",
    "    count = length\n",
    "    \n",
    "    while count != 0:\n",
    "        if name < guess:\n",
    "            upper_bound = index + 1\n",
    "        elif name > guess:\n",
    "            lower_bound = index - 1\n",
    "        elif name == guess:\n",
    "            return 'found'\n",
    "        \n",
    "        # Find the new index of our guess\n",
    "        # Find and format the new guess value\n",
    "        index = math.floor((upper_bound + lower_bound) / 2)\n",
    "        guess = format_name(nba.loc[index][0])"
   ]
  },
  {
   "cell_type": "code",
   "execution_count": 36,
   "metadata": {},
   "outputs": [
    {
     "data": {
      "text/plain": [
       "'found'"
      ]
     },
     "execution_count": 36,
     "metadata": {},
     "output_type": "execute_result"
    }
   ],
   "source": [
    "carmelo_age = player_age(\"Carmelo Anthony\")    \n",
    "carmelo_age"
   ]
  },
  {
   "cell_type": "markdown",
   "metadata": {},
   "source": [
    "###  Implementing Binary Search: Part 4"
   ]
  },
  {
   "cell_type": "code",
   "execution_count": 43,
   "metadata": {},
   "outputs": [],
   "source": [
    "\n",
    "# Implement the player_age function. For now, just return what the instructions specify\n",
    "def player_age(name):\n",
    "    name = format_name(name)\n",
    "    # Set the initial upper bound of the search\n",
    "    # Set the initial lower bound of the search\n",
    "    # Set the index of the first split (remember to use math.floor)\n",
    "    # First guess at index (remember to format the guess)\n",
    "    # Run search code until the name is equal to the guess, or upper bound is less than lower bound\n",
    "        # If name comes before the guess\n",
    "            # Change the appropriate bound\n",
    "        # Else (name comes after the guess)\n",
    "            # Change the appropriate bound\n",
    "        # Set the index of our next guess (remember to use math.floor)\n",
    "        # Retrieve and format our next guess\n",
    "        \n",
    "    ### Now that our loop has terminated, we must find out why ###\n",
    "    # If the name is equal to the guess\n",
    "        # Return the age of the player at index (column index 2 in data set)\n",
    "    # Else\n",
    "        # Return -1, because the function didn't find our player\n",
    "        \n",
    "    #set initial bounds\n",
    "    lower_bound = 0\n",
    "    upper_bound = length\n",
    "\n",
    "    #first index and the guess\n",
    "    index = math.floor((lower_bound + upper_bound)/2)\n",
    "    guess = format_name(nba.loc[index][0])\n",
    "\n",
    "    #start the loop\n",
    "    count = length\n",
    "\n",
    "    while name != guess and upper_bound >= lower_bound:\n",
    "    #while count != 0 or upper_bound < lower_bound:\n",
    "        if name < guess:\n",
    "            upper_bound = index - 1\n",
    "        else:\n",
    "            lower_bound = index + 1\n",
    "        \n",
    "\n",
    "        #set index and retrieve next guess\n",
    "        index = math.floor((lower_bound + upper_bound)/2)\n",
    "        guess = format_name(nba.loc[index][0])\n",
    "\n",
    "\n",
    "    #find age of of the player after loop\n",
    "    if name == guess:\n",
    "        age = nba.loc[index][2]\n",
    "        return age\n",
    "    else:\n",
    "        return \"Player Not Found\"\n",
    "    "
   ]
  },
  {
   "cell_type": "code",
   "execution_count": 46,
   "metadata": {},
   "outputs": [
    {
     "data": {
      "text/plain": [
       "25"
      ]
     },
     "execution_count": 46,
     "metadata": {},
     "output_type": "execute_result"
    }
   ],
   "source": [
    "#chck results\n",
    "curry_age = player_age(\"Stephen Curry\")\n",
    "curry_age"
   ]
  },
  {
   "cell_type": "code",
   "execution_count": 48,
   "metadata": {},
   "outputs": [
    {
     "data": {
      "text/plain": [
       "24"
      ]
     },
     "execution_count": 48,
     "metadata": {},
     "output_type": "execute_result"
    }
   ],
   "source": [
    "griffin_age = player_age(\"Blake Griffin\")\n",
    "griffin_age"
   ]
  },
  {
   "cell_type": "code",
   "execution_count": 49,
   "metadata": {},
   "outputs": [
    {
     "data": {
      "text/plain": [
       "'Player Not Found'"
      ]
     },
     "execution_count": 49,
     "metadata": {},
     "output_type": "execute_result"
    }
   ],
   "source": [
    "jordan_age = player_age(\"Michael Jordan\")\n",
    "jordan_age"
   ]
  },
  {
   "cell_type": "code",
   "execution_count": null,
   "metadata": {},
   "outputs": [],
   "source": []
  }
 ],
 "metadata": {
  "kernelspec": {
   "display_name": "Python 3",
   "language": "python",
   "name": "python3"
  },
  "language_info": {
   "codemirror_mode": {
    "name": "ipython",
    "version": 3
   },
   "file_extension": ".py",
   "mimetype": "text/x-python",
   "name": "python",
   "nbconvert_exporter": "python",
   "pygments_lexer": "ipython3",
   "version": "3.7.3"
  }
 },
 "nbformat": 4,
 "nbformat_minor": 2
}
