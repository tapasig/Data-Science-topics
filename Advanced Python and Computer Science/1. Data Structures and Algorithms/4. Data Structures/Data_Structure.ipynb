{
 "cells": [
  {
   "cell_type": "markdown",
   "metadata": {},
   "source": [
    "### 1. What is a Data Structure?\n",
    "A data structure is a way of organizing data. Lists and dictionaries are examples of data structures we've already seen, but there are many more. Specifically, data structures are concerned with organization of data within a program, rather than the raw data we read into a program.\n",
    "\n",
    "The choice of data structure depends on a few factors. The first and most important consideration is the structure of the data we're storing. If we want to store a batch of strings with no other related data, we would just use a list.\n",
    "\n",
    "Another factor to weigh when choosing a data structure is time efficiency. Inserting, deleting, or finding items in data structures may take different amounts of time for different data structures, which is important to consider when we want to process data efficiently.\n",
    "\n",
    "### Time complexity of array operations"
   ]
  },
  {
   "cell_type": "code",
   "execution_count": 1,
   "metadata": {},
   "outputs": [],
   "source": [
    "# Retrieving an item in an array by index\n",
    "retrieval_by_index = \"constant\"\n",
    "\n",
    "# Searching for a value in an unordered array\n",
    "search = \"linear\"\n",
    "\n",
    "# Deleting an item from an array, and filling the gap by shifting all later items back by one\n",
    "deletion = \"linear\"\n",
    "\n",
    "# Inserting an item into the array, and shifting forward every item that comes after it\n",
    "insertion = \"linear\""
   ]
  },
  {
   "cell_type": "markdown",
   "metadata": {},
   "source": [
    "### Inserting values into arrays"
   ]
  },
  {
   "cell_type": "code",
   "execution_count": 13,
   "metadata": {},
   "outputs": [
    {
     "data": {
      "text/plain": [
       "['Reggie Jackson']"
      ]
     },
     "execution_count": 13,
     "metadata": {},
     "output_type": "execute_result"
    }
   ],
   "source": [
    "players = [\"Reggie Jackson\"]\n",
    "players"
   ]
  },
  {
   "cell_type": "code",
   "execution_count": 14,
   "metadata": {},
   "outputs": [
    {
     "data": {
      "text/plain": [
       "['Reggie Jackson', 'C.J. Watson']"
      ]
     },
     "execution_count": 14,
     "metadata": {},
     "output_type": "execute_result"
    }
   ],
   "source": [
    "players.insert(1, \"C.J. Watson\")\n",
    "players"
   ]
  },
  {
   "cell_type": "code",
   "execution_count": 15,
   "metadata": {},
   "outputs": [
    {
     "data": {
      "text/plain": [
       "['Jeff Adrien', 'Reggie Jackson', 'C.J. Watson']"
      ]
     },
     "execution_count": 15,
     "metadata": {},
     "output_type": "execute_result"
    }
   ],
   "source": [
    "#insert in the 1st \n",
    "players.insert(0, \"Jeff Adrien\")\n",
    "players"
   ]
  },
  {
   "cell_type": "code",
   "execution_count": 16,
   "metadata": {},
   "outputs": [
    {
     "data": {
      "text/plain": [
       "['Jeff Adrien', 'C.J. Watson']"
      ]
     },
     "execution_count": 16,
     "metadata": {},
     "output_type": "execute_result"
    }
   ],
   "source": [
    "players.remove(\"Reggie Jackson\")\n",
    "players"
   ]
  },
  {
   "cell_type": "code",
   "execution_count": 17,
   "metadata": {},
   "outputs": [
    {
     "data": {
      "text/plain": [
       "['Quincy Acy', 'Jeff Adrien', 'C.J. Watson']"
      ]
     },
     "execution_count": 17,
     "metadata": {},
     "output_type": "execute_result"
    }
   ],
   "source": [
    "players.insert(0,\"Quincy Acy\")\n",
    "players"
   ]
  },
  {
   "cell_type": "code",
   "execution_count": 18,
   "metadata": {},
   "outputs": [
    {
     "data": {
      "text/plain": [
       "['Quincy Acy', 'Jeff Adrien', 'Evan Turner', 'C.J. Watson']"
      ]
     },
     "execution_count": 18,
     "metadata": {},
     "output_type": "execute_result"
    }
   ],
   "source": [
    "players.insert(2,\"Evan Turner\")\n",
    "players"
   ]
  },
  {
   "cell_type": "markdown",
   "metadata": {},
   "source": [
    "### Implementing 2D array"
   ]
  },
  {
   "cell_type": "code",
   "execution_count": 19,
   "metadata": {},
   "outputs": [],
   "source": [
    "checker_board = [['blank', 'blank', 'blank', 'blank', 'blank', 'black', 'blank', 'blank'], \n",
    "                 ['blank', 'blank', 'red', 'blank', 'blank', 'blank', 'blank', 'blank'], \n",
    "                 ['blank', 'blank', 'blank', 'black', 'blank', 'red', 'blank', 'blank'], \n",
    "                 ['red', 'blank', 'black', 'blank', 'blank', 'blank', 'red', 'blank'], \n",
    "                 ['blank', 'blank', 'blank', 'black', 'blank', 'red', 'blank', 'blank'], \n",
    "                 ['blank', 'blank', 'black', 'blank', 'blank', 'blank', 'blank', 'blank'], \n",
    "                 ['blank', 'blank', 'blank', 'black', 'blank', 'blank', 'blank', 'blank'], \n",
    "                 ['blank', 'blank', 'red', 'blank', 'red', 'blank', 'red', 'blank']]"
   ]
  },
  {
   "cell_type": "code",
   "execution_count": 20,
   "metadata": {},
   "outputs": [],
   "source": [
    "def red_black(board):\n",
    "\n",
    "    reds = 0\n",
    "    blacks = 0\n",
    "\n",
    "    for i in board:\n",
    "        for j in i:\n",
    "            if j == \"black\":\n",
    "                blacks += 1\n",
    "            elif j == \"red\":\n",
    "                reds += 1\n",
    "    return reds, blacks"
   ]
  },
  {
   "cell_type": "code",
   "execution_count": 21,
   "metadata": {},
   "outputs": [
    {
     "data": {
      "text/plain": [
       "(8, 6)"
      ]
     },
     "execution_count": 21,
     "metadata": {},
     "output_type": "execute_result"
    }
   ],
   "source": [
    "red_black(checker_board)"
   ]
  },
  {
   "cell_type": "markdown",
   "metadata": {},
   "source": [
    "### Choosing the right data structure"
   ]
  },
  {
   "cell_type": "code",
   "execution_count": null,
   "metadata": {},
   "outputs": [],
   "source": []
  }
 ],
 "metadata": {
  "kernelspec": {
   "display_name": "Python 3",
   "language": "python",
   "name": "python3"
  },
  "language_info": {
   "codemirror_mode": {
    "name": "ipython",
    "version": 3
   },
   "file_extension": ".py",
   "mimetype": "text/x-python",
   "name": "python",
   "nbconvert_exporter": "python",
   "pygments_lexer": "ipython3",
   "version": "3.7.3"
  }
 },
 "nbformat": 4,
 "nbformat_minor": 2
}
