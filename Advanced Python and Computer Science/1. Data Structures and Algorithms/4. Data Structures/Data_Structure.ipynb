{
 "cells": [
  {
   "cell_type": "markdown",
   "metadata": {},
   "source": [
    "### 1. What is a Data Structure?\n",
    "A data structure is a way of organizing data. Lists and dictionaries are examples of data structures we've already seen, but there are many more. Specifically, data structures are concerned with organization of data within a program, rather than the raw data we read into a program.\n",
    "\n",
    "The choice of data structure depends on a few factors. The first and most important consideration is the structure of the data we're storing. If we want to store a batch of strings with no other related data, we would just use a list.\n",
    "\n",
    "Another factor to weigh when choosing a data structure is time efficiency. Inserting, deleting, or finding items in data structures may take different amounts of time for different data structures, which is important to consider when we want to process data efficiently.\n",
    "\n",
    "### Time complexity of array operations"
   ]
  },
  {
   "cell_type": "code",
   "execution_count": 1,
   "metadata": {},
   "outputs": [],
   "source": [
    "# Retrieving an item in an array by index\n",
    "retrieval_by_index = \"constant\"\n",
    "\n",
    "# Searching for a value in an unordered array\n",
    "search = \"linear\"\n",
    "\n",
    "# Deleting an item from an array, and filling the gap by shifting all later items back by one\n",
    "deletion = \"linear\"\n",
    "\n",
    "# Inserting an item into the array, and shifting forward every item that comes after it\n",
    "insertion = \"linear\""
   ]
  },
  {
   "cell_type": "code",
   "execution_count": null,
   "metadata": {},
   "outputs": [],
   "source": []
  }
 ],
 "metadata": {
  "kernelspec": {
   "display_name": "Python 3",
   "language": "python",
   "name": "python3"
  },
  "language_info": {
   "codemirror_mode": {
    "name": "ipython",
    "version": 3
   },
   "file_extension": ".py",
   "mimetype": "text/x-python",
   "name": "python",
   "nbconvert_exporter": "python",
   "pygments_lexer": "ipython3",
   "version": "3.7.3"
  }
 },
 "nbformat": 4,
 "nbformat_minor": 2
}
