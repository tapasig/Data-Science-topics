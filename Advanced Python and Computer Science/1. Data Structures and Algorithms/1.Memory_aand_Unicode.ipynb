{
 "cells": [
  {
   "cell_type": "code",
   "execution_count": null,
   "metadata": {},
   "outputs": [],
   "source": [
    "# Let's say b is a binary number.  In python, we have to store binary numbers as strings.\n",
    "# If we try to enter it directly as b = 10, Python will assume it's a base 10 integer.\n",
    "b = \"10\"\n",
    "c = '100'\n",
    "\n",
    "# Now, we can convert b from a string to a binary number with the int function. We'll need to set the optional second argument, base, to 2 (binary is base two).\n",
    "print(int(b, 2))\n",
    "base_10_100 = int(c,2)"
   ]
  },
  {
   "cell_type": "markdown",
   "metadata": {},
   "source": [
    "###  Binary addition\n",
    "We can add binary numbers together, just like we can with base 10 numbers."
   ]
  },
  {
   "cell_type": "code",
   "execution_count": null,
   "metadata": {},
   "outputs": [],
   "source": [
    "# a is in base 10 -- because we have 10 possible digits, the highest value we can represent with one digit is 9.\n",
    "a = 9\n",
    "\n",
    "# When we want to represent a value one higher, we need to add another digit.\n",
    "a += 1\n",
    "# a now has two digits -- we incremented the invisible leading digit, which was 0 and is now 1, and set the last digit back to zero.\n",
    "print(a)\n",
    "\n",
    "# When we add 1 to 19, we increment the leading 1 by 1, and then set the last digit to 0, giving us 20.\n",
    "a = 19\n",
    "a += 1\n",
    "\n",
    "# When we add 1 to 99, we increment the last digit by 1, and add 1 to the first digit, but the first digit is now greater than 9, so we have to increment the invisible leading digit.\n",
    "a = 99\n",
    "a += 1\n",
    "\n",
    "# Binary addition works the exact same way, except the highest value any single digit can represent is 1.\n",
    "b = \"1\"\n",
    "\n",
    "# We'll add binary values using a binary_add function that was made just for this exercise.\n",
    "# It's not extremely important to know how it works right this second.\n",
    "def binary_add(a, b):\n",
    "    print(a, int(a, 2), int(b, 2))\n",
    "    return bin(int(a, 2) + int(b, 2))[2:]\n",
    "\n",
    "c = binary_add(b, \"1\")"
   ]
  },
  {
   "cell_type": "markdown",
   "metadata": {},
   "source": [
    "### Converting Binary Values to Other Bases\n",
    "\n",
    "Let's see which values in binary equal which values in base 10."
   ]
  },
  {
   "cell_type": "code",
   "execution_count": null,
   "metadata": {},
   "outputs": [],
   "source": [
    "#Convert \"1001\" to base 10, and assign the result to base_10_1001.\n",
    "def binary_add(a, b):\n",
    "    return bin(int(a, 2) + int(b, 2))[2:] \n",
    "## The bin function adds \"0b\" to the beginning of a string to indicate that it contains binary values.\n",
    "\n",
    "# Start both at 0\n",
    "a = 0\n",
    "b = \"0\"\n",
    "\n",
    "# Loop 10 times\n",
    "for i in range(0, 10):\n",
    "    # Add 1 to each\n",
    "    a += 1\n",
    "    b = binary_add(b, \"1\")\n",
    "\n",
    "    # Check if they are equal\n",
    "    print(int(b, 2) == a)\n",
    "\n",
    "# The cool thing here is that a and b are always equal if we add the same amount to both.\n",
    "# This is because base 2 and base 10 are just ways to write numbers.\n",
    "# Counting 100 apples in base 2 or base 10 will always give us an equivalent result - we just have to convert between them.\n",
    "# We can represent any number in binary; we just need to use more digits than we would in base 10.\n",
    "base_10_1001 = int(\"1001\",2)"
   ]
  },
  {
   "cell_type": "markdown",
   "metadata": {},
   "source": [
    "### Converting Characters to Binary\n",
    "Computers store strings in binary, just like they do with integers. First, they split them into single characters, then convert those characters to integers. Finally, they convert those integers to binary and store them."
   ]
  },
  {
   "cell_type": "code",
   "execution_count": null,
   "metadata": {},
   "outputs": [],
   "source": [
    "# We can use the ord() function to get the integer for an ASCII character.\n",
    "ord('a')\n",
    "\n",
    "# Then, we use the bin() function to convert to binary.\n",
    "# The bin function adds \"0b\" to the beginning of a string to indicate that it contains binary values.\n",
    "bin(ord('a'))\n",
    "\n",
    "# ÿ is the \"last\" ASCII character; it has the highest integer value of any ASCII character.\n",
    "# This is because 255 is the highest value we can represent with eight binary digits.\n",
    "ord('ÿ')\n",
    "# As you can see, we get eight 1's, which shows that this is the highest possible eight-digit value.\n",
    "bin(ord('ÿ'))\n",
    "print(bin(ord('ÿ')))\n",
    "\n",
    "# There are 256 different ASCII symbols, because the largest amount of storage any single ASCII character can take up is one byte.\n",
    "binary_w = bin(ord('w'))\n",
    "binary_bracket = bin(ord('}'))"
   ]
  },
  {
   "cell_type": "markdown",
   "metadata": {},
   "source": [
    "###  Introduction to Unicode\n"
   ]
  },
  {
   "cell_type": "code",
   "execution_count": null,
   "metadata": {},
   "outputs": [],
   "source": [
    "#Find the binary representation of \"\\u1019\" and assign it to binary_1019.\n",
    "# We can initialize Unicode code points (the value for this code point is \\u27F6, but you see it as a character here because the Dataquest system is automatically converting it).\n",
    "code_point = \"⟶\"\n",
    "\n",
    "# This particular code point maps to a right arrow character.\n",
    "print(code_point)\n",
    "\n",
    "# We can get the base 10 integer value of the code point with the ord function.\n",
    "print(ord(code_point))\n",
    "\n",
    "# As you can see, this takes up a lot more than 1 byte.\n",
    "print(bin(ord(code_point)))\n",
    "\n",
    "binary_1019 = bin(ord(\"\\u1019\"))\n",
    "print(\"\\u1019\")"
   ]
  },
  {
   "cell_type": "markdown",
   "metadata": {},
   "source": [
    "###  7. Strings with Unicode\n",
    "ASCII is a subset of Unicode. Unicode implements all of the ASCII characters, as well as the additional characters that code points allow."
   ]
  },
  {
   "cell_type": "code",
   "execution_count": null,
   "metadata": {},
   "outputs": [],
   "source": [
    "#Make a string that combines Unicode and ASCII, and assign it to s3.\n",
    "s1 = \"café\"\n",
    "# The \\u prefix means \"the next four digits are a Unicode code point\"\n",
    "# It doesn't change the value at all (the last character in the string below is \\u00e9)\n",
    "s2 = \"café\"\n",
    "\n",
    "print(ord(\"é\"), \" \\u00e9\")\n",
    "# These strings are the same, because code points are equal to their corresponding Unicode characters.\n",
    "# \\u00e9 and é are equivalent.\n",
    "print(s1 == s2)\n",
    "\n",
    "s3 = \"hi $\""
   ]
  },
  {
   "cell_type": "markdown",
   "metadata": {},
   "source": [
    "###  The Bytes Data Type\n",
    "Python includes a data type called \"bytes.\" It's similar to a string, except that it contains encoded bytes values.\n",
    "\n",
    "When we create an object with a bytes type from a string, we specify an encoding system (usually UTF-8).\n",
    "\n",
    "Then, we can use the .encode() method to encode the string into bytes."
   ]
  },
  {
   "cell_type": "code",
   "execution_count": null,
   "metadata": {},
   "outputs": [],
   "source": [
    "#Encode batman in UTF-8 and assign it to batman_bytes\n",
    "# We can make a string with some Unicode values\n",
    "superman = \"Clark Kent␦\"\n",
    "print(superman)\n",
    "\n",
    "# This tells Python to encode the string superman as Unicode using the UTF-8 encoding system\n",
    "# We end up with a sequence of bytes instead of a string\n",
    "superman_bytes = \"Clark Kent␦\".encode(\"utf-8\")\n",
    "\n",
    "batman = \"Bruce Wayne␦\"\n",
    "\n",
    "batman_bytes = batman.encode(\"utf-8\")"
   ]
  },
  {
   "cell_type": "markdown",
   "metadata": {},
   "source": [
    "### Hexadecimal Coversions"
   ]
  },
  {
   "cell_type": "code",
   "execution_count": 1,
   "metadata": {},
   "outputs": [
    {
     "name": "stdout",
     "output_type": "stream",
     "text": [
      "15\n",
      "10\n",
      "a\n"
     ]
    }
   ],
   "source": [
    "# F is the highest single digit in hexadecimal (base 16)\n",
    "# Its value is 15 in base 10\n",
    "print(int(\"F\", 16))\n",
    "\n",
    "# A in base 16 has the value 10 in base 10\n",
    "print(int(\"A\", 16))\n",
    "\n",
    "# Just like the earlier binary_add function, this adds two hexadecimal numbers\n",
    "def hexadecimal_add(a, b):\n",
    "    return hex(int(a, 16) + int(b, 16))[2:]\n",
    "\n",
    "# When we add 1 to 9 in hexadecimal, it becomes \"a\"\n",
    "value = \"9\"\n",
    "value = hexadecimal_add(value, \"1\")\n",
    "print(value)\n",
    "\n",
    "hex_ea = hexadecimal_add(\"ea\", \"2\")\n",
    "hex_ef = hexadecimal_add(\"e\", \"f\")"
   ]
  },
  {
   "cell_type": "markdown",
   "metadata": {},
   "source": [
    "### Hex to Binary\n",
    "We can convert hexadecimal to binary fairly easily. We can even use the ord() and bin() functions that helped us convert code points to binary."
   ]
  },
  {
   "cell_type": "code",
   "execution_count": null,
   "metadata": {},
   "outputs": [],
   "source": [
    "# One byte (eight bits) in hexadecimal (the value of the byte below is \\xe2)\n",
    "hex_byte = \"â\"\n",
    "\n",
    "# Print the base 10 integer value for the hexadecimal byte\n",
    "print(ord(hex_byte))\n",
    "\n",
    "# This gives the exact same value. Remember that \\x is just a prefix, and doesn't affect the value.\n",
    "print(int(\"e2\", 16))\n",
    "\n",
    "# Convert the base 10 integer to binary\n",
    "print(bin(ord(\"â\")))\n",
    "\n",
    "binary_aa = bin(int(\"aa\",16))\n",
    "binary_ab = bin(ord(\"\\xab\"))"
   ]
  },
  {
   "cell_type": "markdown",
   "metadata": {},
   "source": [
    "### Bytes and Strings\n",
    "There's no encoding system associated with the bytes data type. That means if we have an object with that data type, Python won't know how to display the (encoded) code points in it. For this reason, we can't mix bytes objects and strings together.\n"
   ]
  },
  {
   "cell_type": "code",
   "execution_count": null,
   "metadata": {},
   "outputs": [],
   "source": [
    "hulk_bytes = \"Bruce Banner␦\".encode(\"utf-8\")\n",
    "\n",
    "# We can't mix strings and bytes\n",
    "# For instance, if we try to replace the Unicode ␦ character as a string, it won't work, because that value has been encoded to bytes\n",
    "try:\n",
    "    hulk_bytes.replace(\"Banner\", \"\")\n",
    "except Exception:\n",
    "    print(\"TypeError with replacement\")\n",
    "\n",
    "# We can create objects of the bytes data type by putting a b in front of the quotation marks in a string\n",
    "hulk_bytes = b\"Bruce Banner\"\n",
    "# Now, instead of mixing strings and bytes, we can use the replace method with bytes objects instead\n",
    "hulk_bytes.replace(b\"Banner\", b\"\")\n",
    "\n",
    "thor_bytes = b\"Thor\""
   ]
  },
  {
   "cell_type": "markdown",
   "metadata": {},
   "source": [
    "### Decode Bytes and Strings\n",
    "Once we have a bytes object, we can decode it into a string using an encoding system. We use the .decode() method to do this."
   ]
  },
  {
   "cell_type": "code",
   "execution_count": null,
   "metadata": {},
   "outputs": [],
   "source": [
    "# Make a bytes object with aquaman's secret identity\n",
    "aquaman_bytes = b\"Who knows?\"\n",
    "\n",
    "# Now, we can use the decode method, along with the encoding system (UTF-8) to turn it into a string\n",
    "aquaman = aquaman_bytes.decode(\"utf-8\")\n",
    "\n",
    "# We can print the value and type to verify that it's a string\n",
    "print(aquaman)\n",
    "print(type(aquaman))\n",
    "\n",
    "morgan_freeman_bytes = b\"Morgan Freeman\"\n",
    "morgan_freeman = morgan_freeman_bytes.decode(\"utf-8\")"
   ]
  },
  {
   "cell_type": "markdown",
   "metadata": {},
   "source": [
    "### Read in File Data"
   ]
  },
  {
   "cell_type": "code",
   "execution_count": 4,
   "metadata": {},
   "outputs": [
    {
     "name": "stdout",
     "output_type": "stream",
     "text": [
      "1997\n",
      "The FBI information included that al-Mairi's brother \"traveled to Afghanistan in 1997-1998 to train in Bin - Ladencamps.\"\n"
     ]
    }
   ],
   "source": [
    "# We can read our data in using csvreader\n",
    "import csv\n",
    "# When we open a file, we can specify the system used to encode it (in this case, UTF-8).\n",
    "f = open(\"sentences_cia.csv\", 'r', encoding=\"utf-8\")\n",
    "csvreader = csv.reader(f)\n",
    "sentences_cia = list(csvreader)\n",
    "\n",
    "# The data consists of two columns\n",
    "# The first column contains the year, and the second contains a sentence from a CIA report written in that year\n",
    "# Print the first column of the second row\n",
    "print(sentences_cia[1][0])\n",
    "\n",
    "# Print the second column of the second row\n",
    "print(sentences_cia[1][1])\n",
    "\n",
    "sentences_ten = sentences_cia[9][1]"
   ]
  },
  {
   "cell_type": "markdown",
   "metadata": {},
   "source": [
    "### Convert to DataFrame\n"
   ]
  },
  {
   "cell_type": "code",
   "execution_count": 5,
   "metadata": {},
   "outputs": [
    {
     "name": "stdout",
     "output_type": "stream",
     "text": [
      "0                 title\n",
      "1             firstname\n",
      "2            middlename\n",
      "3              lastname\n",
      "4           name_suffix\n",
      "5              nickname\n",
      "6                 party\n",
      "7                 state\n",
      "8              district\n",
      "9             in_office\n",
      "10               gender\n",
      "11                phone\n",
      "12                  fax\n",
      "13              website\n",
      "14              webform\n",
      "15      congress_office\n",
      "16          bioguide_id\n",
      "17         votesmart_id\n",
      "18               fec_id\n",
      "19          govtrack_id\n",
      "20               crp_id\n",
      "21           twitter_id\n",
      "22    congresspedia_url\n",
      "23          youtube_url\n",
      "24          facebook_id\n",
      "25         official_rss\n",
      "26         senate_class\n",
      "27            birthdate\n",
      "28             oc_email\n",
      "Name: 0, dtype: object\n",
      "title                                                              Rep\n",
      "firstname                                                         Neil\n",
      "middlename                                                            \n",
      "lastname                                                   Abercrombie\n",
      "name_suffix                                                           \n",
      "nickname                                                              \n",
      "party                                                                D\n",
      "state                                                               HI\n",
      "district                                                             1\n",
      "in_office                                                            0\n",
      "gender                                                               M\n",
      "phone                                                                 \n",
      "fax                                                                   \n",
      "website                               http://www.house.gov/abercrombie\n",
      "webform                                                               \n",
      "congress_office                                                       \n",
      "bioguide_id                                                    A000014\n",
      "votesmart_id                                                     26827\n",
      "fec_id                                                       H6HI01121\n",
      "govtrack_id                                                     400001\n",
      "crp_id                                                       N00007665\n",
      "twitter_id                                             neilabercrombie\n",
      "congresspedia_url    http://www.opencongress.org/wiki/Neil_Abercrombie\n",
      "youtube_url                              http://youtube.com/hawaiirep1\n",
      "facebook_id                                                           \n",
      "official_rss                                                          \n",
      "senate_class                                                          \n",
      "birthdate                                                   1938-06-26\n",
      "oc_email                                                              \n",
      "Name: 0, dtype: object\n",
      "statement\n"
     ]
    }
   ],
   "source": [
    "import csv\n",
    "# Let's read in the legislators data from a few missions ago\n",
    "f = open(\"legislators.csv\", 'r', encoding=\"utf-8\")\n",
    "csvreader = csv.reader(f)\n",
    "legislators = list(csvreader)\n",
    "\n",
    "# Now, we can import pandas and use the DataFrame class to convert the list of lists to a dataframe.\n",
    "import pandas as pd\n",
    "\n",
    "legislators_df = pd.DataFrame(legislators)\n",
    "\n",
    "# As you can see, the first row contains the headers, which we don't want (because they're not actually data)\n",
    "print(legislators_df.iloc[0,:])\n",
    "\n",
    "# To remove the headers, we'll subset the df and pass them in separately\n",
    "# This code removes the headers from legislators, and instead passes them into the columns argument\n",
    "# The columns argument specifies column names\n",
    "legislators_df = pd.DataFrame(legislators[1:], columns=legislators[0])\n",
    "# We now have the right data in the first row, as well as the proper headers\n",
    "print(legislators_df.iloc[0,:])\n",
    "\n",
    "print(sentences_cia[0][1])\n",
    "# The sentences_cia data from the last screen is available.\n",
    "sentences_cia = pd.DataFrame(sentences_cia[1:], columns = sentences_cia[0])"
   ]
  },
  {
   "cell_type": "markdown",
   "metadata": {},
   "source": [
    "### Clean up Sentences\n"
   ]
  },
  {
   "cell_type": "code",
   "execution_count": 7,
   "metadata": {},
   "outputs": [
    {
     "data": {
      "text/html": [
       "<div>\n",
       "<style scoped>\n",
       "    .dataframe tbody tr th:only-of-type {\n",
       "        vertical-align: middle;\n",
       "    }\n",
       "\n",
       "    .dataframe tbody tr th {\n",
       "        vertical-align: top;\n",
       "    }\n",
       "\n",
       "    .dataframe thead th {\n",
       "        text-align: right;\n",
       "    }\n",
       "</style>\n",
       "<table border=\"1\" class=\"dataframe\">\n",
       "  <thead>\n",
       "    <tr style=\"text-align: right;\">\n",
       "      <th></th>\n",
       "      <th>year</th>\n",
       "      <th>statement</th>\n",
       "      <th></th>\n",
       "      <th></th>\n",
       "      <th></th>\n",
       "      <th>cleaned_statement</th>\n",
       "    </tr>\n",
       "  </thead>\n",
       "  <tbody>\n",
       "    <tr>\n",
       "      <th>0</th>\n",
       "      <td>1997</td>\n",
       "      <td>The FBI information included that al-Mairi's b...</td>\n",
       "      <td></td>\n",
       "      <td></td>\n",
       "      <td></td>\n",
       "      <td>The FBI information included that alMairis bro...</td>\n",
       "    </tr>\n",
       "    <tr>\n",
       "      <th>1</th>\n",
       "      <td>1997</td>\n",
       "      <td>The FBI information included that al-Mairi's b...</td>\n",
       "      <td></td>\n",
       "      <td></td>\n",
       "      <td></td>\n",
       "      <td>The FBI information included that alMairis bro...</td>\n",
       "    </tr>\n",
       "    <tr>\n",
       "      <th>2</th>\n",
       "      <td>1997</td>\n",
       "      <td>For example, on October 12, 2004, another CIA ...</td>\n",
       "      <td></td>\n",
       "      <td></td>\n",
       "      <td></td>\n",
       "      <td>For example on October 12 2004 another CIA det...</td>\n",
       "    </tr>\n",
       "    <tr>\n",
       "      <th>3</th>\n",
       "      <td>1997</td>\n",
       "      <td>On October 16, 2001, an email from a CTC offic...</td>\n",
       "      <td></td>\n",
       "      <td></td>\n",
       "      <td></td>\n",
       "      <td>On October 16 2001 an email from a CTC officer...</td>\n",
       "    </tr>\n",
       "    <tr>\n",
       "      <th>4</th>\n",
       "      <td>1997</td>\n",
       "      <td>For example, on October 12, 2004, another CIA ...</td>\n",
       "      <td></td>\n",
       "      <td></td>\n",
       "      <td></td>\n",
       "      <td>For example on October 12 2004 another CIA det...</td>\n",
       "    </tr>\n",
       "  </tbody>\n",
       "</table>\n",
       "</div>"
      ],
      "text/plain": [
       "   year                                          statement        \\\n",
       "0  1997  The FBI information included that al-Mairi's b...         \n",
       "1  1997  The FBI information included that al-Mairi's b...         \n",
       "2  1997  For example, on October 12, 2004, another CIA ...         \n",
       "3  1997  On October 16, 2001, an email from a CTC offic...         \n",
       "4  1997  For example, on October 12, 2004, another CIA ...         \n",
       "\n",
       "                                   cleaned_statement  \n",
       "0  The FBI information included that alMairis bro...  \n",
       "1  The FBI information included that alMairis bro...  \n",
       "2  For example on October 12 2004 another CIA det...  \n",
       "3  On October 16 2001 an email from a CTC officer...  \n",
       "4  For example on October 12 2004 another CIA det...  "
      ]
     },
     "execution_count": 7,
     "metadata": {},
     "output_type": "execute_result"
    }
   ],
   "source": [
    "# The integer codes for all the characters we want to keep\n",
    "good_characters = [48, 49, 50, 51, 52, 53, 54, 55, 56, 57, 65, 66, 67, 68, 69, 70, 71, 72, 73, 74, 75, 76, 77, 78, 79, 80, 81, 82, 83, 84, 85, 86, 87, 88, 89, 90, 97, 98, 99, 100, 101, 102, 103, 104, 105, 106, 107, 108, 109, 110, 111, 112, 113, 114, 115, 116, 117, 118, 119, 120, 121, 122, 32]\n",
    "\n",
    "sentence_15 = sentences_cia[\"statement\"][14]\n",
    "\n",
    "# Iterate over the characters in the sentence, and only take those whose integer representations are in good_characters\n",
    "# This will construct a list of single characters\n",
    "cleaned_sentence_15_list = [s for s in sentence_15 if ord(s) in  good_characters]\n",
    "\n",
    "# Join the list together, separated by \"\" (no space), which creates a string again\n",
    "cleaned_sentence_15 = \"\".join(cleaned_sentence_15_list)\n",
    "\n",
    "#Make a function that takes a dataframe row and then returns the clean version of the \"statement\" column\n",
    "def clean_statement(df_row):\n",
    "    clean_statement = [s for s in df_row['statement'] if ord(s) in good_characters]\n",
    "    return \"\".join(clean_statement)\n",
    "\n",
    "sentences_cia['cleaned_statement'] = sentences_cia.apply(clean_statement, axis=1)\n",
    "sentences_cia.head()\n"
   ]
  },
  {
   "cell_type": "markdown",
   "metadata": {},
   "source": [
    "### Tokenize statements\n"
   ]
  },
  {
   "cell_type": "code",
   "execution_count": 8,
   "metadata": {},
   "outputs": [],
   "source": [
    "# We can use the .join() method on strings to join lists together.\n",
    "# The string we use the method on will become the separator -- the character(s) between each string when they are joined..\n",
    "combined_statements = \" \".join(sentences_cia[\"cleaned_statement\"])\n",
    "\n",
    "st = \"I am different\"\n",
    "st1 = \"I am Tapasi\"\n",
    "st = \" \".join([st, st1])\n",
    "st2 = st.split()\n",
    "st3 = st.split(\" \")\n",
    "\n",
    "splited_statement = combined_statements.split()\n",
    "\n",
    "statement_tokens = combined_statements.split(\" \")\n",
    "# #count the repeated words\n",
    "# from collections import Counter\n",
    "# statement_tokens = Counter(splited_statement)"
   ]
  },
  {
   "cell_type": "markdown",
   "metadata": {},
   "source": [
    "### Filter the tokens\n"
   ]
  },
  {
   "cell_type": "code",
   "execution_count": 10,
   "metadata": {},
   "outputs": [],
   "source": [
    "# statement_tokens has been loaded in.\n",
    "# filtered_tokens = []\n",
    "# for word in statement_tokens:\n",
    "#     if len(word) >= 5:\n",
    "#         filtered_tokens.append(word)\n",
    "    \n",
    "    \n",
    "filtered_tokens = [w for w in statement_tokens if len(w) >=5]\n",
    "\n",
    "#[s for s in df_row['statement'] if ord(s) in good_characters]"
   ]
  },
  {
   "cell_type": "markdown",
   "metadata": {},
   "source": [
    "### Count the tokens\n"
   ]
  },
  {
   "cell_type": "code",
   "execution_count": 11,
   "metadata": {},
   "outputs": [
    {
     "name": "stdout",
     "output_type": "stream",
     "text": [
      "Counter({'apple': 3, 'orange': 2, 'banana': 1, 'pear': 1, 'grape': 1})\n"
     ]
    }
   ],
   "source": [
    "from collections import Counter\n",
    "fruits = [\"apple\", \"apple\", \"banana\", \"orange\", \"pear\", \"orange\", \"apple\", \"grape\"]\n",
    "fruit_count = Counter(fruits)\n",
    "\n",
    "# Our code has counted each of the items in the list, and given them dictionary keys\n",
    "print(fruit_count)\n",
    "\n",
    "#count the repeated words\n",
    "from collections import Counter\n",
    "filtered_token_counts = Counter(filtered_tokens)"
   ]
  },
  {
   "cell_type": "markdown",
   "metadata": {},
   "source": [
    "### Most common tokens\n"
   ]
  },
  {
   "cell_type": "code",
   "execution_count": null,
   "metadata": {},
   "outputs": [],
   "source": [
    "from collections import Counter\n",
    "fruits = [\"apple\", \"apple\", \"banana\", \"orange\", \"pear\", \"orange\", \"apple\", \"grape\"]\n",
    "fruit_count = Counter(fruits)\n",
    "print(fruit_count)\n",
    "# We can use the most_common method of a Counter class to get the most common items\n",
    "# We pass in a number, which is the number of items we want to get\n",
    "print(fruit_count.most_common(2))\n",
    "print(fruit_count.most_common(3))\n",
    "\n",
    "# filtered_token_counts has been loaded in\n",
    "common_tokens = filtered_token_counts.most_common(3)"
   ]
  },
  {
   "cell_type": "markdown",
   "metadata": {},
   "source": [
    "### Finding the most common token by year\n"
   ]
  },
  {
   "cell_type": "code",
   "execution_count": null,
   "metadata": {},
   "outputs": [],
   "source": [
    "# sentences_cia has been loaded in.\n",
    "# It already has the cleaned_statement column.\n",
    "def most_common_in_year(df, yr):\n",
    "    #print(yr, df['year'])\n",
    "    #if the given year matches the df year\n",
    "    sub_set = df[df['year'] == yr]\n",
    "    \n",
    "    combined_statement = \" \".join(sub_set['cleaned_statement'])\n",
    "    #print(combined_statement)\n",
    "        \n",
    "    #print(\"final : \", combined_statement)\n",
    "    \n",
    "    #split\n",
    "    splited_statement = combined_statement.split(\" \")\n",
    "\n",
    "    #filter with >= 5 words\n",
    "    filtered_statement = [w for w in splited_statement if len(w) >= 5]\n",
    "    \n",
    "    #use the counter to count the repeated words\n",
    "    common_words = Counter(filtered_statement)\n",
    "\n",
    "    #return the most tqo common words\n",
    "    return common_words.most_common(2)\n",
    "\n",
    "\n",
    "common_2000 = most_common_in_year(sentences_cia,'2000') \n",
    "common_2002 = most_common_in_year(sentences_cia,'2002') \n",
    "common_2013 = most_common_in_year(sentences_cia,'2013') "
   ]
  }
 ],
 "metadata": {
  "kernelspec": {
   "display_name": "Python 3",
   "language": "python",
   "name": "python3"
  },
  "language_info": {
   "codemirror_mode": {
    "name": "ipython",
    "version": 3
   },
   "file_extension": ".py",
   "mimetype": "text/x-python",
   "name": "python",
   "nbconvert_exporter": "python",
   "pygments_lexer": "ipython3",
   "version": "3.7.3"
  }
 },
 "nbformat": 4,
 "nbformat_minor": 2
}
