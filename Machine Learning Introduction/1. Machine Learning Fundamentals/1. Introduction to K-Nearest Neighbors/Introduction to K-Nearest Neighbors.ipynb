{
 "cells": [
  {
   "cell_type": "markdown",
   "metadata": {},
   "source": [
    "### Read the data file"
   ]
  },
  {
   "cell_type": "code",
   "execution_count": null,
   "metadata": {},
   "outputs": [],
   "source": [
    "## 2. Introduction to the data ##\n",
    "\n",
    "import pandas as pd\n",
    "\n",
    "#read the csv file\n",
    "dc_listings = pd.read_csv(\"dc_airbnb.csv\")\n",
    "print(dc_listings.loc[0])\n"
   ]
  },
  {
   "cell_type": "markdown",
   "metadata": {},
   "source": [
    "### Calculate Euclidean distance"
   ]
  },
  {
   "cell_type": "code",
   "execution_count": null,
   "metadata": {},
   "outputs": [],
   "source": [
    "## 4. Euclidean distance ##\n",
    "\n",
    "import numpy as np\n",
    "first_living_space_value = dc_listings.loc[0,[\"accommodates\"]]\n",
    "print(first_living_space_value.values)\n",
    "\n",
    "our_acc_value = 3\n",
    "\n",
    "first_distance = abs(first_living_space_value - our_acc_value)\n"
   ]
  },
  {
   "cell_type": "markdown",
   "metadata": {},
   "source": [
    "### Calculate Euclidean distance for all observations"
   ]
  },
  {
   "cell_type": "code",
   "execution_count": null,
   "metadata": {},
   "outputs": [],
   "source": [
    "## 5. Calculate distance for all observations ##\n",
    "\n",
    "accommodates = dc_listings.loc[:,[\"accommodates\"]]\n",
    "\n",
    "our_acc_value = 3\n",
    "\n",
    "euclidean_distance = accommodates.apply(lambda x: abs(x - our_acc_value))\n",
    "\n",
    "dc_listings[\"distance\"] = euclidean_distance\n",
    "\n",
    "print(dc_listings[\"distance\"].value_counts())"
   ]
  },
  {
   "cell_type": "markdown",
   "metadata": {},
   "source": [
    "### Shuffle and sort according to distance"
   ]
  },
  {
   "cell_type": "code",
   "execution_count": null,
   "metadata": {},
   "outputs": [],
   "source": [
    "## 6. Randomizing, and sorting ##\n",
    "\n",
    "import numpy as np\n",
    "np.random.seed(1)\n",
    "random = np.random.permutation(len(dc_listings))\n",
    "\n",
    "dc_listings = dc_listings.loc[random]\n",
    "\n",
    "dc_listings = dc_listings.sort_values(\"distance\")\n",
    "\n",
    "print(dc_listings[\"price\"][0:10],'\\n')\n",
    "print(dc_listings.iloc[0:10][\"price\"])"
   ]
  },
  {
   "cell_type": "markdown",
   "metadata": {},
   "source": [
    "### Calculate Average price "
   ]
  },
  {
   "cell_type": "code",
   "execution_count": null,
   "metadata": {},
   "outputs": [],
   "source": [
    "## 7. Average price ##\n",
    "\n",
    "#stripp , and $ signs\n",
    "stripped_commas = dc_listings['price'].str.replace(',','')\n",
    "stripped_dollars = stripped_commas.str.replace('$','')\n",
    "\n",
    "#convert to float dtype\n",
    "dc_listings['price'] = stripped_dollars.astype(float)\n",
    "\n",
    "#mean of 1st 5 rows\n",
    "mean_price = dc_listings[\"price\"][0:5].mean()\n",
    "\n",
    "print(mean_price)"
   ]
  },
  {
   "cell_type": "markdown",
   "metadata": {},
   "source": [
    "### Create the function to predict price of accommodation"
   ]
  },
  {
   "cell_type": "code",
   "execution_count": null,
   "metadata": {},
   "outputs": [],
   "source": [
    "## 8. Function to make predictions ##\n",
    "\n",
    "# Brought along the changes we made to the `dc_listings` Dataframe.\n",
    "dc_listings = pd.read_csv('dc_airbnb.csv')\n",
    "stripped_commas = dc_listings['price'].str.replace(',', '')\n",
    "stripped_dollars = stripped_commas.str.replace('$', '')\n",
    "dc_listings['price'] = stripped_dollars.astype('float')\n",
    "dc_listings = dc_listings.loc[np.random.permutation(len(dc_listings))]\n",
    "\n",
    "def predict_price(new_listing):\n",
    "    temp_df = dc_listings.copy()\n",
    "    ## Complete the function.\n",
    "    #Calculate the distance between each value in the accommodates column and the new_listing value that was passed in.\n",
    "    distance = temp_df[\"accommodates\"].apply(lambda x: np.abs(x - new_listing))\n",
    "    #assign values to distance column\n",
    "    temp_df['distance'] = distance\n",
    "    \n",
    "    #sort 1st 5 values according to distance\n",
    "    temp_df = temp_df.sort_values('distance')\n",
    "    \n",
    "    #calculate mean\n",
    "    # nearest_neighbors = temp_df.iloc[0:5][\"price\"]\n",
    "    # mean_price = nearest_neighbors.mean()\n",
    "    \n",
    "    mean_price = temp_df[\"price\"][0:5].mean()\n",
    "    \n",
    "    \n",
    "    #return(new_listing)\n",
    "    return(mean_price)\n",
    "\n",
    "acc_one = predict_price(1)\n",
    "acc_two = predict_price(2)\n",
    "acc_four = predict_price(4)"
   ]
  }
 ],
 "metadata": {
  "kernelspec": {
   "display_name": "Python 3",
   "language": "python",
   "name": "python3"
  },
  "language_info": {
   "codemirror_mode": {
    "name": "ipython",
    "version": 3
   },
   "file_extension": ".py",
   "mimetype": "text/x-python",
   "name": "python",
   "nbconvert_exporter": "python",
   "pygments_lexer": "ipython3",
   "version": "3.7.3"
  }
 },
 "nbformat": 4,
 "nbformat_minor": 2
}
